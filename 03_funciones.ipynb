{
 "cells": [
  {
   "cell_type": "code",
   "execution_count": 1,
   "metadata": {},
   "outputs": [
    {
     "name": "stdout",
     "output_type": "stream",
     "text": [
      " Hola :) \n"
     ]
    }
   ],
   "source": [
    "# Funciones\n",
    "# Esta funcion No tiene Parametros No Devuelve nada\n",
    "def imprimir_hola():\n",
    "    print(\" Hola :) \")\n",
    "\n",
    "imprimir_hola()"
   ]
  },
  {
   "cell_type": "code",
   "execution_count": 2,
   "metadata": {},
   "outputs": [
    {
     "name": "stdout",
     "output_type": "stream",
     "text": [
      "Mi nombre es Adrian\n"
     ]
    }
   ],
   "source": [
    "# Funcion que recibe un parametro y no devuelve nada\n",
    "def imprimir_nombre(nombre):\n",
    "    print(f\"Mi nombre es {nombre}\")\n",
    "\n",
    "imprimir_nombre(\"Adrian\")"
   ]
  },
  {
   "cell_type": "code",
   "execution_count": 5,
   "metadata": {},
   "outputs": [
    {
     "name": "stdout",
     "output_type": "stream",
     "text": [
      "9\n"
     ]
    }
   ],
   "source": [
    "# Funcion con parametros y devuelve algo\n",
    "def sumar_dos_numeros(num_uno, num_dos):\n",
    "    resultado = num_uno + num_dos\n",
    "    return resultado\n",
    "resultado_funcion = sumar_dos_numeros(3,6)\n",
    "print(resultado_funcion)"
   ]
  },
  {
   "cell_type": "code",
   "execution_count": 8,
   "metadata": {},
   "outputs": [
    {
     "name": "stdout",
     "output_type": "stream",
     "text": [
      "Azul\n",
      "pkn-321\n",
      "2018\n",
      "Hyundai\n"
     ]
    }
   ],
   "source": [
    "def imprimir_carro(color, placa, anio, marca):\n",
    "    print(color)\n",
    "    print(placa)\n",
    "    print(anio)\n",
    "    print(marca)\n",
    "\n",
    "imprimir_carro(\"Azul\", \"pkn-321\", 2018, \"Hyundai\")"
   ]
  },
  {
   "cell_type": "code",
   "execution_count": 9,
   "metadata": {},
   "outputs": [
    {
     "name": "stdout",
     "output_type": "stream",
     "text": [
      "Azul\n",
      "pkn-321\n",
      "2018\n",
      "Hyundai\n"
     ]
    }
   ],
   "source": [
    "# Named Parameters\n",
    "\n",
    "imprimir_carro(placa = \"pkn-321\", \n",
    "               marca = \"Hyundai\",\n",
    "               anio = 2018,\n",
    "               color = \"Azul\")\n"
   ]
  },
  {
   "cell_type": "code",
   "execution_count": 11,
   "metadata": {},
   "outputs": [
    {
     "name": "stdout",
     "output_type": "stream",
     "text": [
      "EPN\n",
      "ESPE\n"
     ]
    }
   ],
   "source": [
    "# Parametros por DEFECTO\n",
    "# Parametro OPCIONAL \n",
    "def imprimir_universidad(universidad = \"EPN\"):\n",
    "    print(universidad)\n",
    "\n",
    "imprimir_universidad()\n",
    "imprimir_universidad(\"ESPE\")"
   ]
  },
  {
   "cell_type": "code",
   "execution_count": 17,
   "metadata": {
    "scrolled": true
   },
   "outputs": [
    {
     "name": "stdout",
     "output_type": "stream",
     "text": [
      "1\n",
      "<class 'tuple'>\n",
      "(2, 1, 2, 3, 4, 5, 6, 7)\n",
      "31\n"
     ]
    }
   ],
   "source": [
    "# Parametros Infinitos\n",
    "def sumar_numeros(num_uno, *numeros_restantes):\n",
    "    print(num_uno)\n",
    "    print(type(numeros_restantes))\n",
    "    print(numeros_restantes)\n",
    "    resultado = num_uno\n",
    "    for numero in numeros_restantes:\n",
    "        resultado = resultado + numero\n",
    "    return resultado\n",
    "\n",
    "resultado = sumar_numeros(1,2,1,2,3,4,5,6,7)\n",
    "print(resultado)\n",
    "    "
   ]
  },
  {
   "cell_type": "code",
   "execution_count": 20,
   "metadata": {},
   "outputs": [
    {
     "name": "stdout",
     "output_type": "stream",
     "text": [
      "<class 'dict'>\n",
      "{'hijos': None}\n",
      "dict_keys(['hijos'])\n",
      "hijos:None\n"
     ]
    }
   ],
   "source": [
    "# Key word arguments\n",
    "def imprimir_persona(**kwargs):\n",
    "    print(type(kwargs))\n",
    "    print(kwargs)\n",
    "    llaves = kwargs.keys()\n",
    "    print(llaves)\n",
    "    for llave in llaves:\n",
    "        print(f\"{llave}:{kwargs[llave]}\")\n",
    "\n",
    "imprimir_persona(edad = 20, nombre = \"Adrian\",\n",
    "                casado = False, hijos = None)\n",
    "    "
   ]
  },
  {
   "cell_type": "code",
   "execution_count": 21,
   "metadata": {
    "scrolled": true
   },
   "outputs": [
    {
     "name": "stdout",
     "output_type": "stream",
     "text": [
      "1\n",
      "2\n",
      "0\n",
      "1\n",
      "()\n",
      "{}\n"
     ]
    }
   ],
   "source": [
    "# 1) PRIMERO PARAMETROS REQUERIDOS!\n",
    "# 2) Despues PARAMETROS DEFECTO o OPCIONALES!\n",
    "# 3) DESPUES PARAMETROS INFINITOS\n",
    "# 4) AL FINAL LOS KWARGS\n",
    "def funcion_ejemplo(req_uno, req_dos, opc_uno = 0,\n",
    "                   opc_dos = 1, *infinitos, **kwargs):\n",
    "    print(req_uno)\n",
    "    print(req_dos)\n",
    "    print(opc_uno)\n",
    "    print(opc_dos)\n",
    "    print(infinitos)\n",
    "    print(kwargs)\n",
    "funcion_ejemplo(1,2)"
   ]
  },
  {
   "cell_type": "code",
   "execution_count": 24,
   "metadata": {
    "scrolled": true
   },
   "outputs": [
    {
     "name": "stdout",
     "output_type": "stream",
     "text": [
      "10\n",
      "49\n",
      "12\n"
     ]
    }
   ],
   "source": [
    "# Funciones lambda \n",
    "# Funciones cortas\n",
    "sumar_cinco = lambda x: x + 5\n",
    "resultado = sumar_cinco(5)\n",
    "print(resultado)\n",
    "elevar_cuadrado = lambda x: x * x\n",
    "resultado = elevar_cuadrado(7)\n",
    "print(resultado)\n",
    "restar_dos_numeros = lambda x, y: x - y\n",
    "resultado = restar_dos_numeros(36,24)\n",
    "print(resultado)\n"
   ]
  },
  {
   "cell_type": "code",
   "execution_count": 36,
   "metadata": {},
   "outputs": [],
   "source": [
    "def crear_archivo(path, contenido):\n",
    "    try:\n",
    "        archivo_abierto = open(path, \"a\")\n",
    "        archivo_abierto.write(f\"\\n {contenido}\")\n",
    "    except error:\n",
    "        print(error)\n",
    "        print(\":(  Hubo error :( \")\n",
    "        \n",
    "path = \"./03_ejemplo.txt\"\n",
    "contenido = \":D wow mi primer archivo en python\"\n",
    "crear_archivo(path, contenido)"
   ]
  },
  {
   "cell_type": "code",
   "execution_count": 41,
   "metadata": {},
   "outputs": [
    {
     "name": "stdout",
     "output_type": "stream",
     "text": [
      "\n",
      "\n",
      " :D wow mi primer archivo en python\n",
      "\n",
      " :D wow mi primer archivo en python\n",
      "\n",
      " :D wow mi primer archivo en python\n",
      "\n",
      " :D wow mi primer archivo en python\n"
     ]
    }
   ],
   "source": [
    "def leer_archivo(path):\n",
    "    try:\n",
    "        archivo_abierto = open(path, \"r\")\n",
    "        lineas = archivo_abierto.readlines()\n",
    "        for linea in lineas:\n",
    "            print(linea)\n",
    "    except error:\n",
    "        print(error)\n",
    "        print(\":'( Lei mal el archivo\")\n",
    "path = \"./03_ejemplo.txt\"\n",
    "leer_archivo(path)"
   ]
  },
  {
   "cell_type": "code",
   "execution_count": null,
   "metadata": {},
   "outputs": [],
   "source": []
  },
  {
   "cell_type": "code",
   "execution_count": null,
   "metadata": {},
   "outputs": [],
   "source": []
  },
  {
   "cell_type": "code",
   "execution_count": null,
   "metadata": {},
   "outputs": [],
   "source": []
  }
 ],
 "metadata": {
  "kernelspec": {
   "display_name": "Python 3",
   "language": "python",
   "name": "python3"
  },
  "language_info": {
   "codemirror_mode": {
    "name": "ipython",
    "version": 3
   },
   "file_extension": ".py",
   "mimetype": "text/x-python",
   "name": "python",
   "nbconvert_exporter": "python",
   "pygments_lexer": "ipython3",
   "version": "3.7.4"
  }
 },
 "nbformat": 4,
 "nbformat_minor": 2
}
