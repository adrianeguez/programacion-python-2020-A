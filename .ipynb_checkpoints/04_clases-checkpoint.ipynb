{
 "cells": [
  {
   "cell_type": "code",
   "execution_count": 4,
   "metadata": {},
   "outputs": [
    {
     "name": "stdout",
     "output_type": "stream",
     "text": [
      "\n",
      "\n",
      "<class '__main__.UniversidadEcuatoriana'>\n",
      "<class '__main__.UniversidadEcuatoriana'>\n",
      "EPN\n",
      "ESPE\n"
     ]
    }
   ],
   "source": [
    "class UniversidadEcuatoriana():\n",
    "    nombre = \"\" # Atributo\n",
    "    pais = \"Ecuador\"\n",
    "    def __init__(self, nombre = \"EPN\"): # Metodos -> Constructor\n",
    "        print(self.nombre)\n",
    "        self.nombre = nombre # Llenamos el atributo\n",
    "\n",
    "    def imprimir(self):\n",
    "        print(self.nombre)\n",
    "        print(self.pais)\n",
    "\n",
    "epn = UniversidadEcuatoriana()  # Copia 1\n",
    "espe = UniversidadEcuatoriana(\"ESPE\")  # Copia 2\n",
    "print(type(epn))\n",
    "print(type(espe))\n",
    "print(epn.nombre)\n",
    "print(espe.nombre)"
   ]
  },
  {
   "cell_type": "code",
   "execution_count": null,
   "metadata": {},
   "outputs": [],
   "source": []
  }
 ],
 "metadata": {
  "kernelspec": {
   "display_name": "Python 3",
   "language": "python",
   "name": "python3"
  },
  "language_info": {
   "codemirror_mode": {
    "name": "ipython",
    "version": 3
   },
   "file_extension": ".py",
   "mimetype": "text/x-python",
   "name": "python",
   "nbconvert_exporter": "python",
   "pygments_lexer": "ipython3",
   "version": "3.7.4"
  }
 },
 "nbformat": 4,
 "nbformat_minor": 2
}
