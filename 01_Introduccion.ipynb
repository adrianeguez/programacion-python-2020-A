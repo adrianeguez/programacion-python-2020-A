{
 "cells": [
  {
   "cell_type": "markdown",
   "metadata": {},
   "source": [
    "# Titulo 1\n",
    "\n",
    "Esto es un parrafo y estamos en la materia de **Python 2020 A**\n",
    "\n",
    "-  Manzana\n",
    "-  Pera\n",
    "-  Papaya\n",
    "\n",
    "Mis dias menos favoritos de la semana son:\n",
    "\n",
    "1.  Lunes\n",
    "2.  Lunes\n",
    "3.  Lunes\n",
    "\n",
    "Google dice que [ESTO ES UN LINK](http://www.google.com), La poli es chevere.\n",
    "\n",
    "![Comida](https://dam.cocinafacil.com.mx/wp-content/uploads/2019/06/recetas-hora-comida.jpg \"Tengo mucha hambre\")\n",
    "\n",
    "\n",
    "\n",
    "\n",
    "## Titulo 2\n",
    "\n",
    "### Titulo 3\n",
    "\n",
    "#### Titulo 4\n",
    "\n",
    "##### Titulo 5\n",
    "\n",
    "###### Titulo 6\n",
    "\n",
    "\n",
    "\n",
    "\n"
   ]
  },
  {
   "cell_type": "markdown",
   "metadata": {},
   "source": [
    "# SHITF + ENTER = NUEVA CELDA\n"
   ]
  },
  {
   "cell_type": "code",
   "execution_count": 1,
   "metadata": {},
   "outputs": [
    {
     "name": "stdout",
     "output_type": "stream",
     "text": [
      "Me compre una\n",
      "Coca cola\n"
     ]
    }
   ],
   "source": [
    "print(\"Me compre una\")\n",
    "print('Coca cola')"
   ]
  },
  {
   "cell_type": "code",
   "execution_count": 4,
   "metadata": {},
   "outputs": [],
   "source": [
    "edad = 30  # Numero (int)\n",
    "nombre = \"Adrian\"  # Texto\n",
    "hijos = None # Null -> Nulo -> None\n",
    "costo = 1.23  # Decimal (float)"
   ]
  },
  {
   "cell_type": "code",
   "execution_count": 8,
   "metadata": {},
   "outputs": [
    {
     "data": {
      "text/plain": [
       "1.23"
      ]
     },
     "execution_count": 8,
     "metadata": {},
     "output_type": "execute_result"
    }
   ],
   "source": [
    "costo"
   ]
  },
  {
   "cell_type": "code",
   "execution_count": 9,
   "metadata": {},
   "outputs": [
    {
     "name": "stdout",
     "output_type": "stream",
     "text": [
      "<class 'int'>\n",
      "<class 'str'>\n",
      "<class 'NoneType'>\n",
      "<class 'float'>\n"
     ]
    }
   ],
   "source": [
    "print(type(edad))\n",
    "print(type(nombre))\n",
    "print(type(hijos))\n",
    "print(type(costo))"
   ]
  },
  {
   "cell_type": "code",
   "execution_count": 10,
   "metadata": {},
   "outputs": [
    {
     "name": "stdout",
     "output_type": "stream",
     "text": [
      "<class 'bool'>\n"
     ]
    },
    {
     "data": {
      "text/plain": [
       "'\\nComentario 1    2     SHIFT + ENTER\\nComentario              3         4\\n'"
      ]
     },
     "execution_count": 10,
     "metadata": {},
     "output_type": "execute_result"
    }
   ],
   "source": [
    "docente = True\n",
    "casado = False\n",
    "print(type(docente))\n",
    "\"\"\"\n",
    "Comentario 1    2     SHIFT + ENTER\n",
    "Comentario              3         4\n",
    "\"\"\""
   ]
  },
  {
   "cell_type": "code",
   "execution_count": 11,
   "metadata": {},
   "outputs": [],
   "source": [
    "variable_poderosa = 1\n",
    "variable_poderosa = 1.2\n",
    "variable_poderosa = \":O\"\n",
    "variable_poderosa = True\n",
    "variable_poderosa = None\n",
    "variable_poderosa = False"
   ]
  },
  {
   "cell_type": "code",
   "execution_count": 20,
   "metadata": {},
   "outputs": [
    {
     "name": "stdout",
     "output_type": "stream",
     "text": [
      "SIII\n"
     ]
    }
   ],
   "source": [
    "# condicion = 10 < 2  # True\n",
    "# condicion = 2 <= 2\n",
    "\"\"\"\n",
    "condicion = 2 < 2 and 3 > 1   # AND (Todas deben de)\n",
    "                              #      para que sea\n",
    "                              #           True\n",
    "\"\"\"        \n",
    "condicion = 2 < 2 or 3 > 1   # OR (Solo uno tiene)\n",
    "                              #    que ser verdadero\n",
    "                              #         True\n",
    "        \n",
    "if(condicion):  # Si cumple\n",
    "    print(\"SIII\")\n",
    "else:  # No cumple\n",
    "    print(\"NOOOOO\")\n",
    "\n"
   ]
  },
  {
   "cell_type": "code",
   "execution_count": 21,
   "metadata": {},
   "outputs": [
    {
     "name": "stdout",
     "output_type": "stream",
     "text": [
      "No\n"
     ]
    }
   ],
   "source": [
    "## Condicionales (Truty o Falsy)\n",
    "## Truty  Falsy\n",
    "condicion = \"\"\n",
    "if(condicion):\n",
    "    print(\"Si\")\n",
    "else:\n",
    "    print(\"No\") # Falsy"
   ]
  },
  {
   "cell_type": "code",
   "execution_count": 22,
   "metadata": {},
   "outputs": [
    {
     "name": "stdout",
     "output_type": "stream",
     "text": [
      "Si\n"
     ]
    }
   ],
   "source": [
    "condicion = \"ABC123\"\n",
    "if(condicion):\n",
    "    print(\"Si\") # Truty\n",
    "else:\n",
    "    print(\"No\")"
   ]
  },
  {
   "cell_type": "code",
   "execution_count": 23,
   "metadata": {},
   "outputs": [
    {
     "name": "stdout",
     "output_type": "stream",
     "text": [
      "Si\n"
     ]
    }
   ],
   "source": [
    "condicion = -1\n",
    "if(condicion):\n",
    "    print(\"Si\") # Truty\n",
    "else:\n",
    "    print(\"No\")"
   ]
  },
  {
   "cell_type": "code",
   "execution_count": 24,
   "metadata": {},
   "outputs": [
    {
     "name": "stdout",
     "output_type": "stream",
     "text": [
      "Si\n"
     ]
    }
   ],
   "source": [
    "condicion = 1\n",
    "if(condicion):\n",
    "    print(\"Si\") # Truty\n",
    "else:\n",
    "    print(\"No\")"
   ]
  },
  {
   "cell_type": "code",
   "execution_count": 25,
   "metadata": {},
   "outputs": [
    {
     "name": "stdout",
     "output_type": "stream",
     "text": [
      "No\n"
     ]
    }
   ],
   "source": [
    "condicion = 0\n",
    "if(condicion):\n",
    "    print(\"Si\")\n",
    "else:\n",
    "    print(\"No\") # Falsy"
   ]
  },
  {
   "cell_type": "code",
   "execution_count": 26,
   "metadata": {},
   "outputs": [
    {
     "name": "stdout",
     "output_type": "stream",
     "text": [
      "No\n"
     ]
    }
   ],
   "source": [
    "condicion = None\n",
    "if(condicion):\n",
    "    print(\"Si\")\n",
    "else:\n",
    "    print(\"No\") # Falsy"
   ]
  },
  {
   "cell_type": "code",
   "execution_count": 39,
   "metadata": {},
   "outputs": [
    {
     "name": "stdout",
     "output_type": "stream",
     "text": [
      "<class 'list'>\n",
      "[1, 2, 3, 4, 5]\n"
     ]
    }
   ],
   "source": [
    "lista = [1, 2, 3, 4, 5]\n",
    "print(type(lista))\n",
    "print(lista)"
   ]
  },
  {
   "cell_type": "code",
   "execution_count": 28,
   "metadata": {},
   "outputs": [
    {
     "name": "stdout",
     "output_type": "stream",
     "text": [
      "<class 'tuple'>\n",
      "(1, 2, 3, 4, 5)\n"
     ]
    }
   ],
   "source": [
    "tupla = (1, 2, 3, 4, 5)\n",
    "print(type(tupla))\n",
    "print(tupla)"
   ]
  },
  {
   "cell_type": "code",
   "execution_count": 29,
   "metadata": {},
   "outputs": [
    {
     "name": "stdout",
     "output_type": "stream",
     "text": [
      "No\n"
     ]
    }
   ],
   "source": [
    "condicion = ()\n",
    "if(condicion):\n",
    "    print(\"Si\")\n",
    "else:\n",
    "    print(\"No\") # Falsy"
   ]
  },
  {
   "cell_type": "code",
   "execution_count": 30,
   "metadata": {},
   "outputs": [
    {
     "name": "stdout",
     "output_type": "stream",
     "text": [
      "No\n"
     ]
    }
   ],
   "source": [
    "condicion = []\n",
    "if(condicion):\n",
    "    print(\"Si\")\n",
    "else:\n",
    "    print(\"No\") # Falsy"
   ]
  },
  {
   "cell_type": "code",
   "execution_count": 32,
   "metadata": {},
   "outputs": [
    {
     "name": "stdout",
     "output_type": "stream",
     "text": [
      "Si\n"
     ]
    }
   ],
   "source": [
    "condicion = (1,2,3)\n",
    "if(condicion):\n",
    "    print(\"Si\") # Truty\n",
    "else:\n",
    "    print(\"No\") "
   ]
  },
  {
   "cell_type": "code",
   "execution_count": 31,
   "metadata": {},
   "outputs": [
    {
     "name": "stdout",
     "output_type": "stream",
     "text": [
      "Si\n"
     ]
    }
   ],
   "source": [
    "condicion = [1,2,3]\n",
    "if(condicion):\n",
    "    print(\"Si\") # Truty\n",
    "else:\n",
    "    print(\"No\")"
   ]
  },
  {
   "cell_type": "code",
   "execution_count": 40,
   "metadata": {},
   "outputs": [
    {
     "name": "stdout",
     "output_type": "stream",
     "text": [
      "[1, 2, 3, 4, 5]\n",
      "[1, 2, 3, 4, 5, 6, 7, 8]\n"
     ]
    }
   ],
   "source": [
    "print(lista)\n",
    "lista.append(6)\n",
    "lista.append(7)\n",
    "lista.append(8)\n",
    "print(lista)"
   ]
  },
  {
   "cell_type": "code",
   "execution_count": 41,
   "metadata": {},
   "outputs": [],
   "source": [
    "lista[0] = 0"
   ]
  },
  {
   "cell_type": "code",
   "execution_count": 42,
   "metadata": {},
   "outputs": [
    {
     "data": {
      "text/plain": [
       "[0, 2, 3, 4, 5, 6, 7, 8]"
      ]
     },
     "execution_count": 42,
     "metadata": {},
     "output_type": "execute_result"
    }
   ],
   "source": [
    "lista # READ / WRITE "
   ]
  },
  {
   "cell_type": "code",
   "execution_count": 44,
   "metadata": {},
   "outputs": [
    {
     "data": {
      "text/plain": [
       "(1, 2, 3, 4, 5)"
      ]
     },
     "execution_count": 44,
     "metadata": {},
     "output_type": "execute_result"
    }
   ],
   "source": [
    "tupla # READ ONLY"
   ]
  },
  {
   "cell_type": "code",
   "execution_count": 45,
   "metadata": {},
   "outputs": [
    {
     "name": "stdout",
     "output_type": "stream",
     "text": [
      "Mi numero es 0\n",
      "Mi numero es 2\n",
      "Mi numero es 3\n",
      "Mi numero es 4\n",
      "Mi numero es 5\n",
      "Mi numero es 6\n",
      "Mi numero es 7\n",
      "Mi numero es 8\n"
     ]
    }
   ],
   "source": [
    "# Iteraciones \n",
    "# for singular_lista_o_tupla in tupla_lista \n",
    "for numero in lista:\n",
    "    print(f\"Mi numero es {numero}\")"
   ]
  },
  {
   "cell_type": "code",
   "execution_count": 46,
   "metadata": {},
   "outputs": [
    {
     "name": "stdout",
     "output_type": "stream",
     "text": [
      "Mi numero es 1\n",
      "Mi numero es 2\n",
      "Mi numero es 3\n",
      "Mi numero es 4\n",
      "Mi numero es 5\n"
     ]
    }
   ],
   "source": [
    "for numero in tupla:\n",
    "    print(f\"Mi numero es {numero}\")"
   ]
  },
  {
   "cell_type": "code",
   "execution_count": 49,
   "metadata": {},
   "outputs": [
    {
     "name": "stdout",
     "output_type": "stream",
     "text": [
      "[0, 2, 3, 4, 5, 6, 7]\n",
      "[0, 2, 3, 4, 5, 6]\n"
     ]
    }
   ],
   "source": [
    "print(lista)\n",
    "lista.pop()\n",
    "print(lista)"
   ]
  },
  {
   "cell_type": "code",
   "execution_count": 51,
   "metadata": {},
   "outputs": [
    {
     "name": "stdout",
     "output_type": "stream",
     "text": [
      "4\n"
     ]
    }
   ],
   "source": [
    "print(lista[3])"
   ]
  },
  {
   "cell_type": "code",
   "execution_count": 52,
   "metadata": {},
   "outputs": [
    {
     "name": "stdout",
     "output_type": "stream",
     "text": [
      "[0, 2, 3]\n"
     ]
    }
   ],
   "source": [
    "# Slices\n",
    "print(lista[0:3])"
   ]
  },
  {
   "cell_type": "code",
   "execution_count": 56,
   "metadata": {},
   "outputs": [
    {
     "name": "stdout",
     "output_type": "stream",
     "text": [
      "[0, 2, 3, 4, 5, 6]\n",
      "4\n"
     ]
    }
   ],
   "source": [
    "print(lista)\n",
    "print(lista[-3])"
   ]
  },
  {
   "cell_type": "code",
   "execution_count": 64,
   "metadata": {},
   "outputs": [
    {
     "name": "stdout",
     "output_type": "stream",
     "text": [
      "[0, 2, 3, 4, 5, 6]\n",
      "[4, 5]\n"
     ]
    }
   ],
   "source": [
    "print(lista)\n",
    "print(lista[-3:-1]) #  [0, 10[ -> Abierto\n",
    "                    #  [0, 3[ -> Abierto"
   ]
  },
  {
   "cell_type": "code",
   "execution_count": 66,
   "metadata": {},
   "outputs": [
    {
     "name": "stdout",
     "output_type": "stream",
     "text": [
      "[0, 2, 3, 4, 5, 6]\n",
      "[3, 4, 5, 6]\n",
      "[0, 2, 3, 4]\n",
      "(1, 2, 3, 4, 5)\n"
     ]
    }
   ],
   "source": [
    "print(lista)\n",
    "print(lista[2:])\n",
    "print(lista[:4])\n",
    "print(tupla[:])"
   ]
  },
  {
   "cell_type": "code",
   "execution_count": 65,
   "metadata": {},
   "outputs": [
    {
     "name": "stdout",
     "output_type": "stream",
     "text": [
      "[4, 5, 6]\n"
     ]
    }
   ],
   "source": [
    "print(lista[-3:])"
   ]
  },
  {
   "cell_type": "code",
   "execution_count": 70,
   "metadata": {},
   "outputs": [
    {
     "name": "stdout",
     "output_type": "stream",
     "text": [
      "{'llave': 'valor', 'nombre': 'Adrian', 'apellido': 'Eguez', 'edad': 30, 'casado': None, 'Hijos': (), 'nietos': []}\n",
      "<class 'dict'>\n"
     ]
    }
   ],
   "source": [
    "# (JSON) -> DICCIONARIOS\n",
    "diccionarios = {\n",
    "    \"llave\": \"valor\",\n",
    "    \"nombre\": \"Adrian\",\n",
    "    \"apellido\": \"Eguez\",\n",
    "    \"edad\": 30,\n",
    "    \"casado\": None,\n",
    "    \"Hijos\": (),\n",
    "    \"nietos\": []\n",
    "}\n",
    "print(diccionarios)\n",
    "print(type(diccionarios))"
   ]
  },
  {
   "cell_type": "code",
   "execution_count": 71,
   "metadata": {},
   "outputs": [
    {
     "data": {
      "text/plain": [
       "30"
      ]
     },
     "execution_count": 71,
     "metadata": {},
     "output_type": "execute_result"
    }
   ],
   "source": [
    "diccionarios[\"edad\"]"
   ]
  },
  {
   "cell_type": "code",
   "execution_count": 72,
   "metadata": {},
   "outputs": [
    {
     "data": {
      "text/plain": [
       "dict_keys(['llave', 'nombre', 'apellido', 'edad', 'casado', 'Hijos', 'nietos'])"
      ]
     },
     "execution_count": 72,
     "metadata": {},
     "output_type": "execute_result"
    }
   ],
   "source": [
    "diccionarios.keys()"
   ]
  },
  {
   "cell_type": "code",
   "execution_count": 73,
   "metadata": {},
   "outputs": [
    {
     "data": {
      "text/plain": [
       "dict_values(['valor', 'Adrian', 'Eguez', 30, None, (), []])"
      ]
     },
     "execution_count": 73,
     "metadata": {},
     "output_type": "execute_result"
    }
   ],
   "source": [
    "diccionarios.values()"
   ]
  },
  {
   "cell_type": "code",
   "execution_count": 74,
   "metadata": {},
   "outputs": [
    {
     "name": "stdout",
     "output_type": "stream",
     "text": [
      "No\n"
     ]
    }
   ],
   "source": [
    "condicion = {}\n",
    "if(condicion):\n",
    "    print(\"Si\")\n",
    "else:\n",
    "    print(\"No\") # Falsy"
   ]
  },
  {
   "cell_type": "code",
   "execution_count": 75,
   "metadata": {},
   "outputs": [
    {
     "name": "stdout",
     "output_type": "stream",
     "text": [
      "Si\n"
     ]
    }
   ],
   "source": [
    "if(diccionarios):\n",
    "    print(\"Si\") # Truty\n",
    "else:\n",
    "    print(\"No\") "
   ]
  },
  {
   "cell_type": "code",
   "execution_count": null,
   "metadata": {},
   "outputs": [],
   "source": []
  },
  {
   "cell_type": "code",
   "execution_count": null,
   "metadata": {},
   "outputs": [],
   "source": []
  },
  {
   "cell_type": "code",
   "execution_count": null,
   "metadata": {},
   "outputs": [],
   "source": []
  },
  {
   "cell_type": "code",
   "execution_count": null,
   "metadata": {},
   "outputs": [],
   "source": []
  },
  {
   "cell_type": "code",
   "execution_count": null,
   "metadata": {},
   "outputs": [],
   "source": []
  },
  {
   "cell_type": "code",
   "execution_count": null,
   "metadata": {},
   "outputs": [],
   "source": []
  },
  {
   "cell_type": "code",
   "execution_count": null,
   "metadata": {},
   "outputs": [],
   "source": []
  },
  {
   "cell_type": "code",
   "execution_count": null,
   "metadata": {},
   "outputs": [],
   "source": []
  },
  {
   "cell_type": "code",
   "execution_count": null,
   "metadata": {},
   "outputs": [],
   "source": []
  }
 ],
 "metadata": {
  "kernelspec": {
   "display_name": "Python 3",
   "language": "python",
   "name": "python3"
  },
  "language_info": {
   "codemirror_mode": {
    "name": "ipython",
    "version": 3
   },
   "file_extension": ".py",
   "mimetype": "text/x-python",
   "name": "python",
   "nbconvert_exporter": "python",
   "pygments_lexer": "ipython3",
   "version": "3.7.4"
  }
 },
 "nbformat": 4,
 "nbformat_minor": 2
}
