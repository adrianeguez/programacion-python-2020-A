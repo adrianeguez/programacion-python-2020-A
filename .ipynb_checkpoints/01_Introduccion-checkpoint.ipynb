{
 "cells": [
  {
   "cell_type": "markdown",
   "metadata": {},
   "source": [
    "# Titulo 1\n",
    "\n",
    "Esto es un parrafo y estamos en la materia de **Python 2020 A**\n",
    "\n",
    "-  Manzana\n",
    "-  Pera\n",
    "-  Papaya\n",
    "\n",
    "Mis dias menos favoritos de la semana son:\n",
    "\n",
    "1.  Lunes\n",
    "2.  Lunes\n",
    "3.  Lunes\n",
    "\n",
    "Google dice que [ESTO ES UN LINK](http://www.google.com), La poli es chevere.\n",
    "\n",
    "![Comida](https://dam.cocinafacil.com.mx/wp-content/uploads/2019/06/recetas-hora-comida.jpg \"Tengo mucha hambre\")\n",
    "\n",
    "\n",
    "\n",
    "\n",
    "## Titulo 2\n",
    "\n",
    "### Titulo 3\n",
    "\n",
    "#### Titulo 4\n",
    "\n",
    "##### Titulo 5\n",
    "\n",
    "###### Titulo 6\n",
    "\n",
    "\n",
    "\n",
    "\n"
   ]
  },
  {
   "cell_type": "markdown",
   "metadata": {},
   "source": [
    "# SHITF + ENTER = NUEVA CELDA\n"
   ]
  },
  {
   "cell_type": "code",
   "execution_count": 1,
   "metadata": {},
   "outputs": [
    {
     "name": "stdout",
     "output_type": "stream",
     "text": [
      "Me compre una\n",
      "Coca cola\n"
     ]
    }
   ],
   "source": [
    "print(\"Me compre una\")\n",
    "print('Coca cola')"
   ]
  },
  {
   "cell_type": "code",
   "execution_count": 4,
   "metadata": {},
   "outputs": [],
   "source": [
    "edad = 30  # Numero (int)\n",
    "nombre = \"Adrian\"  # Texto\n",
    "hijos = None # Null -> Nulo -> None\n",
    "costo = 1.23  # Decimal (float)"
   ]
  },
  {
   "cell_type": "code",
   "execution_count": 8,
   "metadata": {},
   "outputs": [
    {
     "data": {
      "text/plain": [
       "1.23"
      ]
     },
     "execution_count": 8,
     "metadata": {},
     "output_type": "execute_result"
    }
   ],
   "source": [
    "costo"
   ]
  },
  {
   "cell_type": "code",
   "execution_count": 9,
   "metadata": {},
   "outputs": [
    {
     "name": "stdout",
     "output_type": "stream",
     "text": [
      "<class 'int'>\n",
      "<class 'str'>\n",
      "<class 'NoneType'>\n",
      "<class 'float'>\n"
     ]
    }
   ],
   "source": [
    "print(type(edad))\n",
    "print(type(nombre))\n",
    "print(type(hijos))\n",
    "print(type(costo))"
   ]
  },
  {
   "cell_type": "code",
   "execution_count": 10,
   "metadata": {},
   "outputs": [
    {
     "name": "stdout",
     "output_type": "stream",
     "text": [
      "<class 'bool'>\n"
     ]
    },
    {
     "data": {
      "text/plain": [
       "'\\nComentario 1    2     SHIFT + ENTER\\nComentario              3         4\\n'"
      ]
     },
     "execution_count": 10,
     "metadata": {},
     "output_type": "execute_result"
    }
   ],
   "source": [
    "docente = True\n",
    "casado = False\n",
    "print(type(docente))\n",
    "\"\"\"\n",
    "Comentario 1    2     SHIFT + ENTER\n",
    "Comentario              3         4\n",
    "\"\"\""
   ]
  },
  {
   "cell_type": "code",
   "execution_count": 11,
   "metadata": {},
   "outputs": [],
   "source": [
    "variable_poderosa = 1\n",
    "variable_poderosa = 1.2\n",
    "variable_poderosa = \":O\"\n",
    "variable_poderosa = True\n",
    "variable_poderosa = None\n",
    "variable_poderosa = False"
   ]
  },
  {
   "cell_type": "code",
   "execution_count": 20,
   "metadata": {},
   "outputs": [
    {
     "name": "stdout",
     "output_type": "stream",
     "text": [
      "SIII\n"
     ]
    }
   ],
   "source": [
    "# condicion = 10 < 2  # True\n",
    "# condicion = 2 <= 2\n",
    "\"\"\"\n",
    "condicion = 2 < 2 and 3 > 1   # AND (Todas deben de)\n",
    "                              #      para que sea\n",
    "                              #           True\n",
    "\"\"\"        \n",
    "condicion = 2 < 2 or 3 > 1   # OR (Solo uno tiene)\n",
    "                              #    que ser verdadero\n",
    "                              #         True\n",
    "        \n",
    "if(condicion):  # Si cumple\n",
    "    print(\"SIII\")\n",
    "else:  # No cumple\n",
    "    print(\"NOOOOO\")\n",
    "\n"
   ]
  },
  {
   "cell_type": "code",
   "execution_count": 21,
   "metadata": {},
   "outputs": [
    {
     "name": "stdout",
     "output_type": "stream",
     "text": [
      "No\n"
     ]
    }
   ],
   "source": [
    "## Condicionales (Truty o Falsy)\n",
    "## Truty  Falsy\n",
    "condicion = \"\"\n",
    "if(condicion):\n",
    "    print(\"Si\")\n",
    "else:\n",
    "    print(\"No\") # Falsy"
   ]
  },
  {
   "cell_type": "code",
   "execution_count": 22,
   "metadata": {},
   "outputs": [
    {
     "name": "stdout",
     "output_type": "stream",
     "text": [
      "Si\n"
     ]
    }
   ],
   "source": [
    "condicion = \"ABC123\"\n",
    "if(condicion):\n",
    "    print(\"Si\") # Truty\n",
    "else:\n",
    "    print(\"No\")"
   ]
  },
  {
   "cell_type": "code",
   "execution_count": 23,
   "metadata": {},
   "outputs": [
    {
     "name": "stdout",
     "output_type": "stream",
     "text": [
      "Si\n"
     ]
    }
   ],
   "source": [
    "condicion = -1\n",
    "if(condicion):\n",
    "    print(\"Si\") # Truty\n",
    "else:\n",
    "    print(\"No\")"
   ]
  },
  {
   "cell_type": "code",
   "execution_count": 24,
   "metadata": {},
   "outputs": [
    {
     "name": "stdout",
     "output_type": "stream",
     "text": [
      "Si\n"
     ]
    }
   ],
   "source": [
    "condicion = 1\n",
    "if(condicion):\n",
    "    print(\"Si\") # Truty\n",
    "else:\n",
    "    print(\"No\")"
   ]
  },
  {
   "cell_type": "code",
   "execution_count": 25,
   "metadata": {},
   "outputs": [
    {
     "name": "stdout",
     "output_type": "stream",
     "text": [
      "No\n"
     ]
    }
   ],
   "source": [
    "condicion = 0\n",
    "if(condicion):\n",
    "    print(\"Si\")\n",
    "else:\n",
    "    print(\"No\") # Falsy"
   ]
  },
  {
   "cell_type": "code",
   "execution_count": 26,
   "metadata": {},
   "outputs": [
    {
     "name": "stdout",
     "output_type": "stream",
     "text": [
      "No\n"
     ]
    }
   ],
   "source": [
    "condicion = None\n",
    "if(condicion):\n",
    "    print(\"Si\")\n",
    "else:\n",
    "    print(\"No\") # Falsy"
   ]
  },
  {
   "cell_type": "code",
   "execution_count": 27,
   "metadata": {},
   "outputs": [
    {
     "name": "stdout",
     "output_type": "stream",
     "text": [
      "<class 'list'>\n",
      "[1, 2, 3, 4, 5]\n"
     ]
    }
   ],
   "source": [
    "lista = [1, 2, 3, 4, 5]\n",
    "print(type(lista))\n",
    "print(lista)"
   ]
  },
  {
   "cell_type": "code",
   "execution_count": 28,
   "metadata": {},
   "outputs": [
    {
     "name": "stdout",
     "output_type": "stream",
     "text": [
      "<class 'tuple'>\n",
      "(1, 2, 3, 4, 5)\n"
     ]
    }
   ],
   "source": [
    "tupla = (1, 2, 3, 4, 5)\n",
    "print(type(tupla))\n",
    "print(tupla)"
   ]
  },
  {
   "cell_type": "code",
   "execution_count": 29,
   "metadata": {},
   "outputs": [
    {
     "name": "stdout",
     "output_type": "stream",
     "text": [
      "No\n"
     ]
    }
   ],
   "source": [
    "condicion = ()\n",
    "if(condicion):\n",
    "    print(\"Si\")\n",
    "else:\n",
    "    print(\"No\") # Falsy"
   ]
  },
  {
   "cell_type": "code",
   "execution_count": 30,
   "metadata": {},
   "outputs": [
    {
     "name": "stdout",
     "output_type": "stream",
     "text": [
      "No\n"
     ]
    }
   ],
   "source": [
    "condicion = []\n",
    "if(condicion):\n",
    "    print(\"Si\")\n",
    "else:\n",
    "    print(\"No\") # Falsy"
   ]
  },
  {
   "cell_type": "code",
   "execution_count": 32,
   "metadata": {},
   "outputs": [
    {
     "name": "stdout",
     "output_type": "stream",
     "text": [
      "Si\n"
     ]
    }
   ],
   "source": [
    "condicion = (1,2,3)\n",
    "if(condicion):\n",
    "    print(\"Si\") # Truty\n",
    "else:\n",
    "    print(\"No\") "
   ]
  },
  {
   "cell_type": "code",
   "execution_count": 31,
   "metadata": {},
   "outputs": [
    {
     "name": "stdout",
     "output_type": "stream",
     "text": [
      "Si\n"
     ]
    }
   ],
   "source": [
    "condicion = [1,2,3]\n",
    "if(condicion):\n",
    "    print(\"Si\") # Truty\n",
    "else:\n",
    "    print(\"No\")"
   ]
  },
  {
   "cell_type": "code",
   "execution_count": null,
   "metadata": {},
   "outputs": [],
   "source": []
  },
  {
   "cell_type": "code",
   "execution_count": null,
   "metadata": {},
   "outputs": [],
   "source": []
  },
  {
   "cell_type": "code",
   "execution_count": null,
   "metadata": {},
   "outputs": [],
   "source": []
  },
  {
   "cell_type": "code",
   "execution_count": null,
   "metadata": {},
   "outputs": [],
   "source": []
  },
  {
   "cell_type": "code",
   "execution_count": null,
   "metadata": {},
   "outputs": [],
   "source": []
  },
  {
   "cell_type": "code",
   "execution_count": null,
   "metadata": {},
   "outputs": [],
   "source": []
  },
  {
   "cell_type": "code",
   "execution_count": null,
   "metadata": {},
   "outputs": [],
   "source": []
  },
  {
   "cell_type": "code",
   "execution_count": null,
   "metadata": {},
   "outputs": [],
   "source": []
  },
  {
   "cell_type": "code",
   "execution_count": null,
   "metadata": {},
   "outputs": [],
   "source": []
  },
  {
   "cell_type": "code",
   "execution_count": null,
   "metadata": {},
   "outputs": [],
   "source": []
  },
  {
   "cell_type": "code",
   "execution_count": null,
   "metadata": {},
   "outputs": [],
   "source": []
  },
  {
   "cell_type": "code",
   "execution_count": null,
   "metadata": {},
   "outputs": [],
   "source": []
  },
  {
   "cell_type": "code",
   "execution_count": null,
   "metadata": {},
   "outputs": [],
   "source": []
  },
  {
   "cell_type": "code",
   "execution_count": null,
   "metadata": {},
   "outputs": [],
   "source": []
  },
  {
   "cell_type": "code",
   "execution_count": null,
   "metadata": {},
   "outputs": [],
   "source": []
  },
  {
   "cell_type": "code",
   "execution_count": null,
   "metadata": {},
   "outputs": [],
   "source": []
  },
  {
   "cell_type": "code",
   "execution_count": null,
   "metadata": {},
   "outputs": [],
   "source": []
  },
  {
   "cell_type": "code",
   "execution_count": null,
   "metadata": {},
   "outputs": [],
   "source": []
  },
  {
   "cell_type": "code",
   "execution_count": null,
   "metadata": {},
   "outputs": [],
   "source": []
  },
  {
   "cell_type": "code",
   "execution_count": null,
   "metadata": {},
   "outputs": [],
   "source": []
  },
  {
   "cell_type": "code",
   "execution_count": null,
   "metadata": {},
   "outputs": [],
   "source": []
  },
  {
   "cell_type": "code",
   "execution_count": null,
   "metadata": {},
   "outputs": [],
   "source": []
  },
  {
   "cell_type": "code",
   "execution_count": null,
   "metadata": {},
   "outputs": [],
   "source": []
  },
  {
   "cell_type": "code",
   "execution_count": null,
   "metadata": {},
   "outputs": [],
   "source": []
  },
  {
   "cell_type": "code",
   "execution_count": null,
   "metadata": {},
   "outputs": [],
   "source": []
  },
  {
   "cell_type": "code",
   "execution_count": null,
   "metadata": {},
   "outputs": [],
   "source": []
  },
  {
   "cell_type": "code",
   "execution_count": null,
   "metadata": {},
   "outputs": [],
   "source": []
  },
  {
   "cell_type": "code",
   "execution_count": null,
   "metadata": {},
   "outputs": [],
   "source": []
  }
 ],
 "metadata": {
  "kernelspec": {
   "display_name": "Python 3",
   "language": "python",
   "name": "python3"
  },
  "language_info": {
   "codemirror_mode": {
    "name": "ipython",
    "version": 3
   },
   "file_extension": ".py",
   "mimetype": "text/x-python",
   "name": "python",
   "nbconvert_exporter": "python",
   "pygments_lexer": "ipython3",
   "version": "3.7.4"
  }
 },
 "nbformat": 4,
 "nbformat_minor": 2
}
