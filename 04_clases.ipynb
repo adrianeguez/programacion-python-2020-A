{
 "cells": [
  {
   "cell_type": "code",
   "execution_count": 8,
   "metadata": {},
   "outputs": [
    {
     "name": "stdout",
     "output_type": "stream",
     "text": [
      "\n",
      "\n",
      "EPN\n",
      "Ecuador\n",
      "1234\n"
     ]
    }
   ],
   "source": [
    "class UniversidadEcuatoriana():\n",
    "    nombre = \"\" # Atributo PUBLICO\n",
    "    pais = \"Ecuador\" # Atributo PUBLICO\n",
    "    __codigo_escondido = \"1234\" # Atributo PRIVADO\n",
    "    def __init__(self, nombre = \"EPN\"): # Metodos -> Constructor\n",
    "        print(self.nombre)\n",
    "        self.nombre = nombre # Llenamos el atributo\n",
    "\n",
    "    def imprimir(self):\n",
    "        print(self.nombre)\n",
    "        print(self.pais)\n",
    "        print(self.__codigo_escondido)\n",
    "\n",
    "epn = UniversidadEcuatoriana()  # Copia 1\n",
    "espe = UniversidadEcuatoriana(\"ESPE\")  # Copia 2\n",
    "# print(epn.__codigo_escondido) # :( \n",
    "epn.imprimir()  # OK ver privados\n"
   ]
  },
  {
   "cell_type": "code",
   "execution_count": null,
   "metadata": {},
   "outputs": [],
   "source": []
  }
 ],
 "metadata": {
  "kernelspec": {
   "display_name": "Python 3",
   "language": "python",
   "name": "python3"
  },
  "language_info": {
   "codemirror_mode": {
    "name": "ipython",
    "version": 3
   },
   "file_extension": ".py",
   "mimetype": "text/x-python",
   "name": "python",
   "nbconvert_exporter": "python",
   "pygments_lexer": "ipython3",
   "version": "3.7.4"
  }
 },
 "nbformat": 4,
 "nbformat_minor": 2
}
